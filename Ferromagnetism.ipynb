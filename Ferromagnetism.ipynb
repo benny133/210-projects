{
 "cells": [
  {
   "cell_type": "markdown",
   "metadata": {
    "collapsed": false,
    "deletable": false,
    "editable": false,
    "nbgrader": {
     "grade": false,
     "grade_id": "cell-387708844d56e740",
     "locked": true,
     "schema_version": 3,
     "solution": false,
     "task": false
    }
   },
   "source": [
    "## Project 3 Ferromagnetism\n",
    "\n",
    "Due Wed Nov 17, 9am\n",
    "\n",
    "Objective: Explore the Curie temperature and the Ising model of Ferromagnetism\n",
    "See the pdf instructions on Canvas\n",
    "\n",
    "\n"
   ]
  },
  {
   "cell_type": "code",
   "execution_count": 10,
   "metadata": {
    "collapsed": false,
    "deletable": false,
    "nbgrader": {
     "cell_type": "code",
     "checksum": "0bfa40a09871fe7f6c32ceb6c24c7991",
     "grade": true,
     "grade_id": "cell-proj3-1",
     "locked": false,
     "points": 0,
     "schema_version": 3,
     "solution": true,
     "task": false
    }
   },
   "outputs": [
    {
     "name": "stdout",
     "output_type": "stream",
     "text": [
      "The total energy of the initial configuration is 36\n"
     ]
    }
   ],
   "source": [
    "import numpy as np\n",
    "import matplotlib.pyplot as plt\n",
    "from scipy.ndimage import convolve\n",
    "import numba as nb\n",
    "import matplotlib.animation as animation\n",
    "from IPython.display import HTML\n",
    "\n",
    "\n",
    "\"\"\"\n",
    "This program explores the Ising model of Ferromagnetism to estimate the Curie\n",
    "Temperature and observe the evolution of some NxN configuration of electrons\n",
    "at certain temperatures.\n",
    "Each electron is defined as either a 1 or a -1. This represents the spin state\n",
    "the electron. Much of the calculation is based around the energy of the system.\n",
    "\n",
    "The energy of a configuration is found by multiplying each electron by its\n",
    "vertical and horizontal neighbours (not diagonal), and then summing the energy\n",
    "of each electron. Based on this concept we design a function that randomly\n",
    "switches the spin of an electron. Based on the resulting change in energy of\n",
    "thesystem along with the temperature of the system, the probability of this\n",
    "switchoccuring is calculated and then the switch either occurs or is passed by.\n",
    "With this method, we can see how a evolves at some temperature and after\n",
    "600 000switch attempts, we can find the magnetic moment by summing all the\n",
    "electrons'spins.\n",
    "With these we can plot the magnetic moment vs temperature to determine the\n",
    "Curie temperature; the temperature at which a substance loses its\n",
    "ferromagnetism. Finally, with the same function, we can create an animation\n",
    "to watch how a system evolves over the 600 000 itterations.\n",
    "\"\"\"\n",
    "\n",
    "# CONSTANTS =============\n",
    "N = 50  # system dimension (one axis)\n",
    "TAF = np.array([0.01, 0.1, 1, 2, 3, 4, 5, 10, 100])  # array of temperatures\n",
    "sgm = np.random.choice(np.array([-1, 1]), (N, N))  # initial spin configuration\n",
    "itr = 600000  # iterations\n",
    "\n",
    "# FUNCTIONS ============\n",
    "\n",
    "\n",
    "def energy(array):\n",
    "    \"\"\"\n",
    "    This calculate the total energy of a given configuration of electrons\n",
    "    represented by ones and negative ones.\n",
    "    It uses covolve to find the sum of each electron multiplied by its\n",
    "    neighbour    to the right and below to find energy of individual\n",
    "    electron. Only uses two neighbours to avoid double counting. Finally\n",
    "    sums each energy state for total energy.\n",
    "\n",
    "    Inputs:\n",
    "        array (numpy array of integers): configuration of electrons with\n",
    "            positive of negative spin represented by 1 and -1 respectively\n",
    "    Outputs:\n",
    "        tot_energy: the negative sum of each electron multiplied by its\n",
    "            4 neighbours - represents the total energy of a configuration\n",
    "            of electrons' spins in a system\n",
    "    \"\"\"\n",
    "    # guide for convolve to follow\n",
    "    map1 = np.array([[0, 0, 0], [0, 0, 1], [0, 1, 0]])\n",
    "    # finds energy of each each electron\n",
    "    arr = -array*convolve(array, map1, mode=\"wrap\")\n",
    "    tot_energy = arr.sum()\n",
    "    return tot_energy\n",
    "\n",
    "\n",
    "@nb.njit(nopython=True, nogil=True)  # numba is used as it improves runtime\n",
    "def evolve(iters, T, save_ani=False):\n",
    "    \"\"\"\n",
    "    Finds the evolution of the configuration of a randomly generated initial\n",
    "    confiuration of electrons over a given number of iterations at some\n",
    "    temperature. It does this by using the deltaE function to try to achive\n",
    "    the lowest possible total energy, i.e. the most stable arrangement.\n",
    "\n",
    "    Inputs:\n",
    "        iters (integer): Iterations; the number of times deltaE is called\n",
    "        T (float): The temperature of the sytem\n",
    "        save_ani (Boolean): Decides whether or not every 2000th configuration\n",
    "            will be saved. Set to True for animation purposes\n",
    "\n",
    "    Outputs:\n",
    "        mag_moment (integer): The magnetic moment of the system configuration\n",
    "            after given number of iterations. Found by summing all elements of\n",
    "            the array.\n",
    "        imgs (list of numpy arrays): When save_ani = False this list is empty\n",
    "            When save_ani = True this list contains the configuration at every\n",
    "            2000th step in the iteration which allows visualization of the\n",
    "            evolution of the system.\n",
    "    \"\"\"\n",
    "    sgm_0 = np.random.choice(np.array([-1, 1]), (N, N))  # intial configuration\n",
    "    # array for probabilty of energy change acceptance, used in deltaE\n",
    "    probs = np.empty(9)\n",
    "    probs[4] = np.exp(-4/T)  # probability for energy change of 4, index with 4\n",
    "    probs[8] = np.exp(-8/T)  # probability for energy change of 8, index with 8\n",
    "\n",
    "    imgs = []\n",
    "    for i in range(iters):\n",
    "        if i % 2000 == 0:  # saves every 2000th array\n",
    "            if save_ani:  # checks if saving arrays is needed\n",
    "                imgs.append(sgm_0.copy())\n",
    "        deltaE(sgm_0, T, probs)  # progresses the evolution of the system\n",
    "    mag_moment = sgm_0.sum()  # sums final configuration of electrons\n",
    "    return mag_moment, imgs\n",
    "\n",
    "\n",
    "@nb.njit(nopython=True, nogil=True)  # numba is used as it improves runtime\n",
    "def deltaE(arr, T, Ps):\n",
    "    \"\"\"\n",
    "    Randomly selects an index of the given system and calculates the change\n",
    "    in energy of the sytem based on flipping the spin (sign) of the electron.\n",
    "    This is achieved by finding the change in energy of the electron that would\n",
    "    be flipped as it corresponds to the change in energy of the entier system\n",
    "    as it is the only electron changing state.\n",
    "    Based on the calculated change in energy and the given temperature, it\n",
    "    decides whether this electron flipping is probable. If the change in energy\n",
    "    is negative it is accepted. If it is positve, it's probablity is calculated\n",
    "    using the given temperature and is compared to a randomly generated number\n",
    "    to decide if it is accepted.\n",
    "\n",
    "    Inputs:\n",
    "        arr (numpy array of itegers): configuration of electrons' spins in a\n",
    "            system\n",
    "        T (float): temperature of the system\n",
    "        Ps (numpy array if floats): The probabilities for acceptance of energy\n",
    "            changes of 4 and 8\n",
    "\n",
    "    Outputs:\n",
    "        None - updates the given array in place\n",
    "    \"\"\"\n",
    "    x = np.random.randint(0, N)  # random x coordinate\n",
    "    y = np.random.randint(0, N)  # random y coordinate\n",
    "    xp1 = (x + 1) % (N)  # for when x is at right edge of system\n",
    "    yp1 = (y + 1) % (N)  # for when y is at bottom edge of system\n",
    "    # energy of randomly indexed electron from neighbouring electrons\n",
    "    val = arr[x, y]*(arr[xp1, y] + arr[x, yp1] + arr[x-1, y] + arr[x, y-1])\n",
    "    # change in E is always -2 times the initial energy of the indexed electron\n",
    "    # it becomes positive from the negative in the equation\n",
    "    val *= 2\n",
    "    if val <= 0:  # accepts negative and neutral energy changes\n",
    "        arr[x, y] *= -1\n",
    "    else:  # decides whether to accept positive energy changes\n",
    "        rn = np.random.uniform(0, 1)\n",
    "        # indexes array made in line 69 to use relevant probability\n",
    "        if Ps[val] > rn:  # compares probability to rn to decide on acceetance\n",
    "            arr[x, y] *= -1\n",
    "\n",
    "\n",
    "# FUNCTION USAGE ===========\n",
    "\n",
    "E_0 = energy(sgm)\n",
    "print(\"The total energy of the initial configuration is {:n}\".format(E_0))"
   ]
  },
  {
   "cell_type": "code",
   "execution_count": 1,
   "metadata": {
    "collapsed": false,
    "deletable": false,
    "nbgrader": {
     "cell_type": "code",
     "checksum": "4eee689d45819242f61b01607a149ee6",
     "grade": true,
     "grade_id": "cell-proj3-2",
     "locked": false,
     "points": 0,
     "schema_version": 3,
     "solution": true,
     "task": false
    }
   },
   "outputs": [
    {
     "ename": "NameError",
     "evalue": "name 'np' is not defined",
     "output_type": "error",
     "traceback": [
      "\u001b[0;31m---------------------------------------------------------------------------\u001b[0m",
      "\u001b[0;31mNameError\u001b[0m                                 Traceback (most recent call last)",
      "\u001b[0;32m/tmp/ipykernel_888/3162497619.py\u001b[0m in \u001b[0;36m<module>\u001b[0;34m\u001b[0m\n\u001b[1;32m     10\u001b[0m \u001b[0;34m\u001b[0m\u001b[0m\n\u001b[1;32m     11\u001b[0m \u001b[0;34m\u001b[0m\u001b[0m\n\u001b[0;32m---> 12\u001b[0;31m \u001b[0mmax_mms\u001b[0m \u001b[0;34m=\u001b[0m \u001b[0mnp\u001b[0m\u001b[0;34m.\u001b[0m\u001b[0mempty\u001b[0m\u001b[0;34m(\u001b[0m\u001b[0mlen\u001b[0m\u001b[0;34m(\u001b[0m\u001b[0mTAF\u001b[0m\u001b[0;34m)\u001b[0m\u001b[0;34m)\u001b[0m  \u001b[0;31m# array for max magnetic moment storage\u001b[0m\u001b[0;34m\u001b[0m\u001b[0;34m\u001b[0m\u001b[0m\n\u001b[0m\u001b[1;32m     13\u001b[0m \u001b[0;32mfor\u001b[0m \u001b[0mt\u001b[0m \u001b[0;32min\u001b[0m \u001b[0mrange\u001b[0m\u001b[0;34m(\u001b[0m\u001b[0mlen\u001b[0m\u001b[0;34m(\u001b[0m\u001b[0mTAF\u001b[0m\u001b[0;34m)\u001b[0m\u001b[0;34m)\u001b[0m\u001b[0;34m:\u001b[0m\u001b[0;34m\u001b[0m\u001b[0;34m\u001b[0m\u001b[0m\n\u001b[1;32m     14\u001b[0m     \u001b[0mmmAF\u001b[0m \u001b[0;34m=\u001b[0m \u001b[0mnp\u001b[0m\u001b[0;34m.\u001b[0m\u001b[0mempty\u001b[0m\u001b[0;34m(\u001b[0m\u001b[0;36m5\u001b[0m\u001b[0;34m)\u001b[0m  \u001b[0;31m# Array for 5 magnetic moments for each temperature\u001b[0m\u001b[0;34m\u001b[0m\u001b[0;34m\u001b[0m\u001b[0m\n",
      "\u001b[0;31mNameError\u001b[0m: name 'np' is not defined"
     ]
    }
   ],
   "source": [
    "# Calculate M vs T and plot it here\n",
    "\"\"\"\n",
    "This cell computes the asolute value of the magnetic moment of a system\n",
    "after 'itr' steps of evolution using the evolve function from the\n",
    "previous cell. It does this five times for each temperature in TAF and\n",
    "selects the maximum magnetic moment for each. It then plots these\n",
    "maximum values vs temperature. From this we can see at what temperature\n",
    "an object loses it's magnetism and thus determine the Curie Temperature.\n",
    "\"\"\"\n",
    "\n",
    "\n",
    "max_mms = np.empty(len(TAF))  # array for max magnetic moment storage\n",
    "for t in range(len(TAF)):\n",
    "    mmAF = np.empty(5)  # Array for 5 magnetic moments for each temperature\n",
    "    for n in range(5):\n",
    "        # save_ani kept false as images aren't needed\n",
    "        mm, imgs = evolve(itr, TAF[t])\n",
    "        mmAF[n] = abs(mm)   # records absolute value of magnetic moment\n",
    "    max_mms[t] = np.amax(mmAF)  # finds maximum Magnetic moment and records it\n",
    "\n",
    "\n",
    "# PLOTTING =============\n",
    "\n",
    "plt.plot(TAF, max_mms, \"bo--\")\n",
    "plt.xscale('log')\n",
    "plt.xlabel(\"Temperature\")\n",
    "plt.ylabel(\"Magnetic Moment (maximum of five results)\")\n",
    "plt.title(\"Curie Temperature Visualization\")\n",
    "plt.show()\n",
    "\n",
    "# formatted like this to avoid a line that is too long\n",
    "print(\"The Curie temperature for this substance is \"\n",
    "      \"approximately {:3.3}\".format(TAF[5]))"
   ]
  },
  {
   "cell_type": "code",
   "execution_count": 3,
   "metadata": {
    "collapsed": false,
    "deletable": false,
    "nbgrader": {
     "cell_type": "code",
     "checksum": "f6a40b2ac07789c47cdade7546530d3e",
     "grade": true,
     "grade_id": "cell-proj3-3",
     "locked": false,
     "points": 0,
     "schema_version": 3,
     "solution": true,
     "task": false
    }
   },
   "outputs": [
    {
     "data": {
      "text/html": [
       "<video controls autoplay><source src=\"0.1degrees.webm\" type=\"video/webm\"></video>"
      ],
      "text/plain": [
       "<IPython.core.display.HTML object>"
      ]
     },
     "execution_count": 3,
     "metadata": {
     },
     "output_type": "execute_result"
    }
   ],
   "source": [
    "# Generate 3rd animation here\n",
    "\"\"\"\n",
    "This cell generates an animation depicting the evolution of a randomly\n",
    "generated system of electrons over 'itr' steps at a temperature of 0.1.\n",
    "Only every 2000th configuration is taken so the animation is not\n",
    "excessively long.\n",
    "\"\"\"\n",
    "\n",
    "\n",
    "fig = plt.figure()  # base for animation\n",
    "# produces list of configurations for animations (grids)\n",
    "mm, grids = evolve(itr, TAF[1], True)\n",
    "meshes = []  # list for coloured configurations\n",
    "\n",
    "for grid in grids:  # this converts configurations to image format\n",
    "    meshes.append((plt.pcolormesh(grid, vmin=-1, vmax=1), ))\n",
    "\n",
    "meshes_animation = animation.ArtistAnimation(fig, meshes,\n",
    "                                             interval=50, repeat=False)\n",
    "\n",
    "# repeat is ignored with the file output we produce here, but can be\n",
    "# useful for other output forms.\n",
    "\n",
    "# Save to a file:\n",
    "meshes_animation.save('0.1degrees.webm', extra_args=['-vcodec', 'libvpx'])\n",
    "\n",
    "plt.close()  # this prevents a stray plot from appearing.\n",
    "del meshes  # these two lines allow the memory held by images to be released.\n",
    "del meshes_animation\n",
    "\n",
    "HTML('<video controls autoplay>'\n",
    "     '<source src=\"0.1degrees.webm\" type=\"video/webm\"></video>')"
   ]
  },
  {
   "cell_type": "code",
   "execution_count": 4,
   "metadata": {
    "collapsed": false,
    "deletable": false,
    "nbgrader": {
     "cell_type": "code",
     "checksum": "be0d3d78933d66d875d51a2bd99742f5",
     "grade": true,
     "grade_id": "cell-proj3-4",
     "locked": false,
     "points": 0,
     "schema_version": 3,
     "solution": true,
     "task": false
    }
   },
   "outputs": [
    {
     "data": {
      "text/html": [
       "<video controls autoplay><source src=\"2.5degrees.webm\" type=\"video/webm\"></video>"
      ],
      "text/plain": [
       "<IPython.core.display.HTML object>"
      ]
     },
     "execution_count": 4,
     "metadata": {
     },
     "output_type": "execute_result"
    }
   ],
   "source": [
    "# Generate 2nd animation here\n",
    "\"\"\"\n",
    "This cell generates an animation depicting the evolution of a randomly\n",
    "generated system of electrons over 'itr' steps at a temperature of 2.5.\n",
    "Only every 2000th configuration is taken so the animation is not\n",
    "excessively long.\n",
    "\"\"\"\n",
    "\n",
    "\n",
    "fig = plt.figure()  # base for animation\n",
    "# produces list of configurations for animations (grids)\n",
    "mm, grids = evolve(itr, 2.5, True)\n",
    "meshes = []  # list for coloured configurations\n",
    "\n",
    "for grid in grids:  # this converts configurations to image format\n",
    "    meshes.append((plt.pcolormesh(grid, vmin=-1, vmax=1), ))\n",
    "\n",
    "meshes_animation = animation.ArtistAnimation(fig, meshes,\n",
    "                                             interval=50, repeat=False)\n",
    "\n",
    "# Save to a file:\n",
    "meshes_animation.save('2.5degrees.webm', extra_args=['-vcodec', 'libvpx'])\n",
    "\n",
    "plt.close()  # this prevents a stray plot from appearing.\n",
    "del meshes  # these two lines allow the memory held by images to be released\n",
    "del meshes_animation\n",
    "\n",
    "HTML('<video controls autoplay>'\n",
    "     '<source src=\"2.5degrees.webm\" type=\"video/webm\"></video>')"
   ]
  },
  {
   "cell_type": "code",
   "execution_count": 5,
   "metadata": {
    "collapsed": false,
    "deletable": false,
    "nbgrader": {
     "cell_type": "code",
     "checksum": "4404449c71fe0337cac209ec33696fa2",
     "grade": true,
     "grade_id": "cell-proj3-5",
     "locked": false,
     "points": 0,
     "schema_version": 3,
     "solution": true,
     "task": false
    }
   },
   "outputs": [
    {
     "data": {
      "text/html": [
       "<video controls autoplay><source src=\"100degrees.webm\" type=\"video/webm\"></video>"
      ],
      "text/plain": [
       "<IPython.core.display.HTML object>"
      ]
     },
     "execution_count": 5,
     "metadata": {
     },
     "output_type": "execute_result"
    }
   ],
   "source": [
    "# Generate 3rd animation here\n",
    "\"\"\"\n",
    "This cell generates an animation depicting the evolution of a randomly\n",
    "generated system of electrons over 'itr' steps at a temperature of 100.\n",
    "Only every 2000th configuration is taken so the animation is not\n",
    "excessively long.\n",
    "\"\"\"\n",
    "\n",
    "fig = plt.figure()  # base for animation\n",
    "# produces list of configurations for animations (grids)\n",
    "mm, grids = evolve(itr, TAF[8], True)\n",
    "meshes = []  # list for coloured configurations\n",
    "\n",
    "for grid in grids:  # this converts configurations to image format\n",
    "    meshes.append((plt.pcolormesh(grid, vmin=-1, vmax=1), ))\n",
    "\n",
    "meshes_animation = animation.ArtistAnimation(fig, meshes,\n",
    "                                             interval=50, repeat=False)\n",
    "\n",
    "# repeat is ignored with the file output we produce here, but can be\n",
    "# useful for other output forms.\n",
    "\n",
    "# Save to a file:\n",
    "meshes_animation.save('100degrees.webm', extra_args=['-vcodec', 'libvpx'])\n",
    "\n",
    "plt.close()  # this prevents a stray plot from appearing.\n",
    "del meshes  # these two lines allow the memory held by images to be released.\n",
    "del meshes_animation\n",
    "\n",
    "HTML('<video controls autoplay>'\n",
    "     '<source src=\"100degrees.webm\" type=\"video/webm\"></video>')"
   ]
  },
  {
   "cell_type": "markdown",
   "metadata": {
    "collapsed": false
   },
   "source": [
    "# Acknowledgements\n",
    "Please describe the role of **anyone other than yourself** who contributed to the work shown in this notebook. \n",
    "\n",
    "Its ok to get help from us and classmates! Please get in the habit of acknowledging such contributions.\n",
    "\n",
    "If you want to refer to a classmate, please use only their cocalc email-id and not their name - or you could just say something like: \"a classmate gave me the idea to use xxx feature to solve yyy problem.\"\n",
    "\n",
    " - Grey helped me figure out the function to calculate the energy of a configuration. ie. helped me get it together for the start of the project.\n",
    " - Grey helped me with making my code more compact, and using evolve to call deltaE with the save image check instead of having\n",
    "redundant functions\n",
    "\n",
    " - Guillermo (guillermo.ecab@gmial.com) introduced me to numba which allows my code to run much faster\n",
    "\n",
    " - Guillermo showed me convolve to effeciently calculate the energy of a configuration\n",
    "\n",
    " - For the animations I used the code from the project outline and made adjustments so it fit my work"
   ]
  },
  {
   "cell_type": "markdown",
   "metadata": {
    "collapsed": false,
    "deletable": false,
    "editable": false,
    "nbgrader": {
     "grade": false,
     "grade_id": "5a51c4",
     "locked": true,
     "schema_version": 3,
     "solution": false,
     "task": false
    }
   },
   "source": [
    "All solution code for the main project question should appear above this cell.\n",
    "Project extensions should appear in the cell below."
   ]
  },
  {
   "cell_type": "code",
   "execution_count": 6,
   "metadata": {
    "collapsed": false,
    "deletable": false,
    "nbgrader": {
     "cell_type": "code",
     "checksum": "8f6f4474a7a64dd7464215e287601f68",
     "grade": true,
     "grade_id": "cell-extension",
     "locked": false,
     "points": 3,
     "schema_version": 3,
     "solution": true,
     "task": false
    }
   },
   "outputs": [
    {
     "ename": "NotImplementedError",
     "evalue": "",
     "output_type": "error",
     "traceback": [
      "\u001b[0;31m---------------------------------------------------------------------------\u001b[0m",
      "\u001b[0;31mNotImplementedError\u001b[0m                       Traceback (most recent call last)",
      "\u001b[0;32m/tmp/ipykernel_1917/2371967383.py\u001b[0m in \u001b[0;36m<module>\u001b[0;34m\u001b[0m\n\u001b[1;32m      1\u001b[0m \u001b[0;31m# OPTIONAL project extension (which can call functions in your code above if desired) here.\u001b[0m\u001b[0;34m\u001b[0m\u001b[0;34m\u001b[0m\u001b[0;34m\u001b[0m\u001b[0m\n\u001b[1;32m      2\u001b[0m \u001b[0;31m# YOUR CODE HERE\u001b[0m\u001b[0;34m\u001b[0m\u001b[0;34m\u001b[0m\u001b[0;34m\u001b[0m\u001b[0m\n\u001b[0;32m----> 3\u001b[0;31m \u001b[0;32mraise\u001b[0m \u001b[0mNotImplementedError\u001b[0m\u001b[0;34m(\u001b[0m\u001b[0;34m)\u001b[0m\u001b[0;34m\u001b[0m\u001b[0;34m\u001b[0m\u001b[0m\n\u001b[0m",
      "\u001b[0;31mNotImplementedError\u001b[0m: "
     ]
    }
   ],
   "source": [
    "# OPTIONAL project extension (which can call functions in your code above if desired) here.\n",
    "# YOUR CODE HERE\n",
    "raise NotImplementedError()"
   ]
  },
  {
   "cell_type": "markdown",
   "metadata": {
    "collapsed": false
   },
   "source": [
    "# Extension Description\n",
    "\n",
    "Please describe any new language features or project extension you have implemented in this cell.\n",
    "\n"
   ]
  },
  {
   "cell_type": "markdown",
   "metadata": {
    "collapsed": false,
    "deletable": false,
    "nbgrader": {
     "cell_type": "markdown",
     "checksum": "5a988aac49e42301b0c7010f2034bc8e",
     "grade": true,
     "grade_id": "cell-executes",
     "locked": false,
     "points": 15,
     "schema_version": 3,
     "solution": true,
     "task": false
    }
   },
   "source": [
    "Code executes - grader use only\n",
    "\n",
    "YOUR ANSWER HERE"
   ]
  },
  {
   "cell_type": "code",
   "execution_count": 12,
   "metadata": {
    "collapsed": false,
    "deletable": false,
    "editable": false,
    "nbgrader": {
     "grade": true,
     "grade_id": "cell-style",
     "locked": true,
     "points": 5,
     "schema_version": 3,
     "solution": false,
     "task": false
    }
   },
   "outputs": [
    {
     "name": "stdout",
     "output_type": "stream",
     "text": [
      "checking cell: cell-proj3-1\n",
      "checking cell: cell-proj3-2\n",
      "checking cell: cell-proj3-3\n",
      "checking cell: cell-proj3-4\n",
      "checking cell: cell-proj3-5\n"
     ]
    },
    {
     "data": {
      "text/plain": [
       "<Figure size 864x504 with 0 Axes>"
      ]
     },
     "execution_count": 12,
     "metadata": {
     },
     "output_type": "execute_result"
    }
   ],
   "source": [
    "# pep8 returns warnings or errors\n",
    "nb_name = \"project3.ipynb\"\n",
    "cells_to_check = []\n",
    "cells_to_exclude = ['cell-style', 'cell-optimization0']\n",
    "stop_at = ['cell-extension']\n",
    "\n",
    "# check_style.py uses cells_to_check and nb_name\n",
    "%run -i check_style2.py\n"
   ]
  },
  {
   "cell_type": "markdown",
   "metadata": {
    "collapsed": false,
    "deletable": false,
    "nbgrader": {
     "cell_type": "markdown",
     "checksum": "d3a947c86d14cd60877f4c4880ad341a",
     "grade": true,
     "grade_id": "cell-results",
     "locked": false,
     "points": 15,
     "schema_version": 3,
     "solution": true,
     "task": false
    }
   },
   "source": [
    "Results Grade - grader use only\n",
    "\n",
    "YOUR ANSWER HERE"
   ]
  },
  {
   "cell_type": "markdown",
   "metadata": {
    "collapsed": false,
    "deletable": false,
    "nbgrader": {
     "cell_type": "markdown",
     "checksum": "81efd43e0d2d2f914a4c222d366028a9",
     "grade": true,
     "grade_id": "cell-comments-readability",
     "locked": false,
     "points": 20,
     "schema_version": 3,
     "solution": true,
     "task": false
    }
   },
   "source": [
    "Comments, naming, readability - grader use only\n",
    "\n",
    "YOUR ANSWER HERE"
   ]
  },
  {
   "cell_type": "markdown",
   "metadata": {
    "collapsed": false,
    "deletable": false,
    "nbgrader": {
     "cell_type": "markdown",
     "checksum": "67ba22d55f065432ba878707303f70e7",
     "grade": true,
     "grade_id": "cell-plots",
     "locked": false,
     "points": 15,
     "schema_version": 3,
     "solution": true,
     "task": false
    }
   },
   "source": [
    "Plots - grader use only\n",
    "\n",
    "YOUR ANSWER HERE"
   ]
  },
  {
   "cell_type": "markdown",
   "metadata": {
    "collapsed": false,
    "deletable": false,
    "nbgrader": {
     "cell_type": "markdown",
     "checksum": "2be191d12e7632a4ed72bcb37265e562",
     "grade": true,
     "grade_id": "cell-compactness",
     "locked": false,
     "points": 15,
     "schema_version": 3,
     "solution": true,
     "task": false
    }
   },
   "source": [
    "Code compactness and organization - grader use only\n",
    "\n",
    "YOUR ANSWER HERE"
   ]
  },
  {
   "cell_type": "code",
   "execution_count": 8,
   "metadata": {
    "collapsed": false,
    "deletable": false,
    "editable": false,
    "nbgrader": {
     "grade": true,
     "grade_id": "cell-optimization0",
     "locked": true,
     "points": 0,
     "schema_version": 3,
     "solution": false,
     "task": false
    }
   },
   "outputs": [
    {
     "name": "stdout",
     "output_type": "stream",
     "text": [
      "The total energy of the initial configuration is -72\n",
      "Time for cell: cell-proj3-1 time: 0.01\n"
     ]
    },
    {
     "name": "stderr",
     "output_type": "stream",
     "text": [
      "/usr/local/lib/python3.8/dist-packages/numba/core/decorators.py:252: RuntimeWarning: nopython is set for njit and is ignored\n",
      "  warnings.warn('nopython is set for njit and is ignored', RuntimeWarning)\n"
     ]
    },
    {
     "data": {
      "image/png": "[encoded data removed]",
      "text/plain": [
       "<Figure size 864x504 with 1 Axes>"
      ]
     },
     "execution_count": 8,
     "metadata": {
      "image/png": {
       "height": 441,
       "width": 730
      },
      "needs_background": "light"
     },
     "output_type": "execute_result"
    },
    {
     "name": "stdout",
     "output_type": "stream",
     "text": [
      "The Curie temperature for this substance is approximately 4.0\n",
      "Time for cell: cell-proj3-2 time: 2.38\n"
     ]
    },
    {
     "data": {
      "text/html": [
       "<video controls autoplay><source src=\"0.1degrees.webm\" type=\"video/webm\"></video>"
      ],
      "text/plain": [
       "<IPython.core.display.HTML object>"
      ]
     },
     "execution_count": 8,
     "metadata": {
     },
     "output_type": "execute_result"
    },
    {
     "name": "stdout",
     "output_type": "stream",
     "text": [
      "Time for cell: cell-proj3-3 time: 16.91\n"
     ]
    },
    {
     "data": {
      "text/html": [
       "<video controls autoplay><source src=\"2.5degrees.webm\" type=\"video/webm\"></video>"
      ],
      "text/plain": [
       "<IPython.core.display.HTML object>"
      ]
     },
     "execution_count": 8,
     "metadata": {
     },
     "output_type": "execute_result"
    },
    {
     "name": "stdout",
     "output_type": "stream",
     "text": [
      "Time for cell: cell-proj3-4 time: 18.57\n"
     ]
    },
    {
     "data": {
      "text/html": [
       "<video controls autoplay><source src=\"100degrees.webm\" type=\"video/webm\"></video>"
      ],
      "text/plain": [
       "<IPython.core.display.HTML object>"
      ]
     },
     "execution_count": 8,
     "metadata": {
     },
     "output_type": "execute_result"
    },
    {
     "name": "stdout",
     "output_type": "stream",
     "text": [
      "Time for cell: cell-proj3-5 time: 20.11\n",
      "Total time: 57.98\n"
     ]
    },
    {
     "data": {
      "text/plain": [
       "<Figure size 864x504 with 0 Axes>"
      ]
     },
     "execution_count": 8,
     "metadata": {
     },
     "output_type": "execute_result"
    }
   ],
   "source": [
    "    # Code optimization/speed\n",
    "cells_to_time = []\n",
    "cells_to_exclude = ['cell-style', 'cell-optimization0']\n",
    "stop_at = ['cell-extension']\n",
    "# also uses nb_name\n",
    "%run -i time_cells2.py"
   ]
  },
  {
   "cell_type": "markdown",
   "metadata": {
    "collapsed": false,
    "deletable": false,
    "nbgrader": {
     "cell_type": "markdown",
     "checksum": "e08582e91157b2e47d95782a80501fd7",
     "grade": true,
     "grade_id": "cell-optimization1",
     "locked": false,
     "points": 5,
     "schema_version": 3,
     "solution": true,
     "task": false
    }
   },
   "source": [
    "Code optimization/timing - grader use only\n",
    "\n",
    "YOUR ANSWER HERE"
   ]
  },
  {
   "cell_type": "markdown",
   "metadata": {
    "collapsed": false,
    "deletable": false,
    "nbgrader": {
     "cell_type": "markdown",
     "checksum": "305dbd4f0976f098b2ab06bab6b1de8d",
     "grade": true,
     "grade_id": "cell-new_features",
     "locked": false,
     "points": 2,
     "schema_version": 3,
     "solution": true,
     "task": false
    }
   },
   "source": [
    "New Functionality/Language features - grader use only\n",
    "\n",
    "YOUR ANSWER HERE"
   ]
  }
 ],
 "metadata": {
  "celltoolbar": "Create Assignment",
  "kernelspec": {
   "display_name": "Python 3 (system-wide)",
   "language": "python",
   "metadata": {
    "cocalc": {
     "description": "Python 3 programming language",
     "priority": 100,
     "url": "https://www.python.org/"
    }
   },
   "name": "python3",
   "resource_dir": "/ext/jupyter/kernels/python3"
  },
  "language_info": {
   "codemirror_mode": {
    "name": "ipython",
    "version": 3
   },
   "file_extension": ".py",
   "mimetype": "text/x-python",
   "name": "python",
   "nbconvert_exporter": "python",
   "pygments_lexer": "ipython3",
   "version": "3.8.10"
  }
 },
 "nbformat": 4,
 "nbformat_minor": 4
}